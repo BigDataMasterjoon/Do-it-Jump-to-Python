{
 "cells": [
  {
   "cell_type": "code",
   "execution_count": 1,
   "id": "b5df981b",
   "metadata": {},
   "outputs": [
    {
     "data": {
      "text/plain": [
       "'a#b#c#d'"
      ]
     },
     "execution_count": 1,
     "metadata": {},
     "output_type": "execute_result"
    }
   ],
   "source": [
    "# 1\n",
    "mystr = \"a:b:c:d\"\n",
    "\n",
    "mystr2 = mystr.split(\":\")\n",
    "\n",
    "\"#\".join(mystr2)"
   ]
  },
  {
   "cell_type": "code",
   "execution_count": 2,
   "id": "b2c19305",
   "metadata": {},
   "outputs": [
    {
     "data": {
      "text/plain": [
       "70"
      ]
     },
     "execution_count": 2,
     "metadata": {},
     "output_type": "execute_result"
    }
   ],
   "source": [
    "# 2\n",
    "a = {'A': 90, 'B': 80}\n",
    "a.get('C', 70)"
   ]
  },
  {
   "cell_type": "code",
   "execution_count": 3,
   "id": "660f58ab",
   "metadata": {},
   "outputs": [
    {
     "data": {
      "text/plain": [
       "[1, 2, 3, 4, 5]"
      ]
     },
     "execution_count": 3,
     "metadata": {},
     "output_type": "execute_result"
    }
   ],
   "source": [
    "# 3\n",
    "a = [1, 2, 3]\n",
    "a = a + [4, 5]\n",
    "a"
   ]
  },
  {
   "cell_type": "code",
   "execution_count": 4,
   "id": "7d652067",
   "metadata": {},
   "outputs": [
    {
     "name": "stdout",
     "output_type": "stream",
     "text": [
      "[1, 2, 3, 4, 5]\n",
      "동일하다\n"
     ]
    }
   ],
   "source": [
    "a = [1, 2, 3]\n",
    "a.extend([4, 5])\n",
    "print(a)\n",
    "print(\"동일하다\")"
   ]
  },
  {
   "cell_type": "code",
   "execution_count": 5,
   "id": "ffeaba6e",
   "metadata": {},
   "outputs": [
    {
     "name": "stdout",
     "output_type": "stream",
     "text": [
      "481\n"
     ]
    }
   ],
   "source": [
    "# 4\n",
    "A = [20, 55, 67, 82, 45, 33, 90, 87, 100, 25]\n",
    "result = 0\n",
    "for num in A:\n",
    "    if num >= 50:\n",
    "        result = num + result\n",
    "    \n",
    "print(result)"
   ]
  },
  {
   "cell_type": "code",
   "execution_count": 6,
   "id": "045b0095",
   "metadata": {},
   "outputs": [],
   "source": [
    "# 5\n",
    "\n",
    "def 피보나치(end):\n",
    "    mylist = [0, 1]\n",
    "\n",
    "    if end == 1:\n",
    "        result = mylist[0]\n",
    "        print(result)\n",
    "    elif end == 2:\n",
    "        result = mylist[0:]\n",
    "        print(result)\n",
    "    elif end >= 3:\n",
    "        for i in range(end-2):\n",
    "            mylist.append(mylist[-2] + mylist[-1])\n",
    "            result = mylist\n",
    "        print(result)\n",
    "    else: print(\"정수를 입력하시오.\")\n",
    "    "
   ]
  },
  {
   "cell_type": "code",
   "execution_count": 7,
   "id": "ddd6f830",
   "metadata": {},
   "outputs": [
    {
     "name": "stdout",
     "output_type": "stream",
     "text": [
      "[0, 1, 1, 2, 3, 5]\n"
     ]
    }
   ],
   "source": [
    "피보나치(6)"
   ]
  },
  {
   "cell_type": "code",
   "execution_count": 8,
   "id": "f36395c2",
   "metadata": {},
   "outputs": [],
   "source": [
    "# 6\n",
    "def 더하기(*args):\n",
    "    result = 0\n",
    "    for i in args:\n",
    "        result = result + i\n",
    "    return result"
   ]
  },
  {
   "cell_type": "code",
   "execution_count": 9,
   "id": "338465d4",
   "metadata": {},
   "outputs": [
    {
     "data": {
      "text/plain": [
       "168"
      ]
     },
     "execution_count": 9,
     "metadata": {},
     "output_type": "execute_result"
    }
   ],
   "source": [
    "더하기(65, 45, 2, 3, 45, 8)"
   ]
  },
  {
   "cell_type": "code",
   "execution_count": 10,
   "id": "05310e75",
   "metadata": {},
   "outputs": [
    {
     "name": "stdout",
     "output_type": "stream",
     "text": [
      "6 12 18 24 30 36 42 48 54 "
     ]
    }
   ],
   "source": [
    "# 7\n",
    "num = int(input(\"구구단을 출력할 숫자를 입력하세요(2~9)\"))\n",
    "for i in range(1,10):\n",
    "    print(i * num, end = \" \")"
   ]
  },
  {
   "cell_type": "code",
   "execution_count": 11,
   "id": "c6feb17b",
   "metadata": {},
   "outputs": [
    {
     "name": "stdout",
     "output_type": "stream",
     "text": [
      "EEE\n",
      "DDD\n",
      "CCC\n",
      "BBB\n",
      "AAA\n"
     ]
    }
   ],
   "source": [
    "# 8\n",
    "f = open('abc.txt', 'r')\n",
    "lines = f.readlines()\n",
    "\n",
    "data = []\n",
    "for line in lines:\n",
    "    line = line.strip() # 줄바꿈 없앰\n",
    "    data.append(line)\n",
    "data.reverse()\n",
    "\n",
    "f.close()\n",
    "\n",
    "for i in data:\n",
    "    print(i)\n"
   ]
  },
  {
   "cell_type": "code",
   "execution_count": 12,
   "id": "daf8e443",
   "metadata": {},
   "outputs": [
    {
     "name": "stdout",
     "output_type": "stream",
     "text": [
      "총합은 다음과 같습니다.\n",
      "790\n",
      "평균은 다음과 같습니다.\n",
      "79.0\n"
     ]
    }
   ],
   "source": [
    "# 9\n",
    "f = open('sample.txt', 'r')\n",
    "\n",
    "lines = f.readlines()\n",
    "data = []\n",
    "for line in lines:\n",
    "    data.append(int(line.strip()))\n",
    "\n",
    "sum_result = 0\n",
    "for i in data:\n",
    "    sum_result = sum_result + i\n",
    "\n",
    "print(\"총합은 다음과 같습니다.\")\n",
    "print(sum_result)\n",
    "\n",
    "avg_result = sum_result / len(data)\n",
    "\n",
    "print(\"평균은 다음과 같습니다.\")\n",
    "print(avg_result)\n",
    "\n",
    "f.close()\n",
    "\n",
    "f2 = open('result.txt', 'w')\n",
    "\n",
    "f2.write(str(avg_result))\n",
    "\n",
    "f2.close()"
   ]
  },
  {
   "cell_type": "code",
   "execution_count": 13,
   "id": "9ae264ca",
   "metadata": {},
   "outputs": [],
   "source": [
    "# 10\n",
    "class Calculator:\n",
    "    def __init__(self, mylist):\n",
    "        self.mylist = mylist\n",
    "\n",
    "    def setdata(self, mylist):\n",
    "        self.mylist = mylist\n",
    "    \n",
    "    def sum(self):\n",
    "        result = 0\n",
    "        for i in self.mylist:\n",
    "            result = result + i\n",
    "        return result\n",
    "    \n",
    "    def avg(self):\n",
    "        result = 0\n",
    "        for i in self.mylist:\n",
    "            result = result + i\n",
    "        result = result / len(self.mylist)\n",
    "        return result "
   ]
  },
  {
   "cell_type": "code",
   "execution_count": 14,
   "id": "faefee1f",
   "metadata": {},
   "outputs": [
    {
     "name": "stdout",
     "output_type": "stream",
     "text": [
      "15\n",
      "3.0\n"
     ]
    }
   ],
   "source": [
    "cal1 = Calculator([1,2,3,4,5])\n",
    "print(cal1.sum())\n",
    "print(cal1.avg())"
   ]
  },
  {
   "cell_type": "code",
   "execution_count": 15,
   "id": "edd818fc",
   "metadata": {},
   "outputs": [
    {
     "name": "stdout",
     "output_type": "stream",
     "text": [
      "40\n",
      "8.0\n"
     ]
    }
   ],
   "source": [
    "cal2 = Calculator([6,7,8,9,10])\n",
    "print(cal2.sum())\n",
    "print(cal2.avg())"
   ]
  },
  {
   "cell_type": "code",
   "execution_count": 16,
   "id": "8d9e4be3",
   "metadata": {},
   "outputs": [],
   "source": [
    "# 11\n",
    "# import mymod\n",
    "# form 모듈_이름 import 함수_이름"
   ]
  },
  {
   "cell_type": "code",
   "execution_count": 17,
   "id": "28c675db",
   "metadata": {},
   "outputs": [
    {
     "name": "stdout",
     "output_type": "stream",
     "text": [
      "7\n"
     ]
    }
   ],
   "source": [
    "# 12\n",
    "# 인덱스 에러가 먼저임으로 3 더해지고, 그 밑에 실행될건 마지막 4 더해지는 것 뿐임으로 7 나올듯.\n",
    "\n",
    "result = 0\n",
    "\n",
    "try:\n",
    "    [1,2,3][3]\n",
    "    \"a\" + 1\n",
    "    4 / 0\n",
    "except TypeError:\n",
    "    result += 1\n",
    "except ZeroDivisionError:\n",
    "    result += 2\n",
    "except IndexError:\n",
    "    result += 3\n",
    "finally:\n",
    "    result += 4\n",
    "\n",
    "print(result)"
   ]
  },
  {
   "cell_type": "code",
   "execution_count": 21,
   "id": "389f8309",
   "metadata": {},
   "outputs": [
    {
     "name": "stdout",
     "output_type": "stream",
     "text": [
      "입력: 88888883284141111111111\n",
      "변환 후: 8*8*8*8*8*8*832*8*4141-1-1-1-1-1-1-1-1-1\n"
     ]
    },
    {
     "data": {
      "text/plain": [
       "'8*8*8*8*8*8*832*8*4141-1-1-1-1-1-1-1-1-1'"
      ]
     },
     "execution_count": 21,
     "metadata": {},
     "output_type": "execute_result"
    }
   ],
   "source": [
    "# 13\n",
    "def Dashinsert():\n",
    "    numbers = input(\"숫자만 입력해주이소.\")\n",
    "    result = []\n",
    "\n",
    "    numbers = str(numbers)\n",
    "\n",
    "    for index in range(len(numbers)):\n",
    "        if index == 0:\n",
    "            result.append(numbers[index])\n",
    "        else:\n",
    "            last_num = int(numbers[index-1])\n",
    "            now_num = int(numbers[index])\n",
    "            \n",
    "            if last_num % 2 == 1 and now_num % 2 == 1:\n",
    "                result.append('-')\n",
    "                result.append(numbers[index])\n",
    "            elif last_num % 2 == 0 and now_num % 2 == 0:\n",
    "                result.append('*')\n",
    "                result.append(numbers[index])\n",
    "            else:\n",
    "                result.append(numbers[index])\n",
    "\n",
    "    result = \"\".join(result)\n",
    "\n",
    "    print(\"입력: \" + numbers)\n",
    "    print(\"변환 후: \" + result)\n",
    "\n",
    "    return result\n",
    "\n",
    "Dashinsert()"
   ]
  },
  {
   "cell_type": "code",
   "execution_count": 19,
   "id": "0d0ea91d",
   "metadata": {},
   "outputs": [
    {
     "name": "stdout",
     "output_type": "stream",
     "text": [
      "당신이 처음 입력한 문자열aaaaaaaaaaaaabbbbbbbbbbb\n",
      "변환된 문자열a13b11\n"
     ]
    }
   ],
   "source": [
    "# 14\n",
    "\n",
    "mystr = input(\"알파벳을 아무렇게나 여러개 입력해주세요.\")\n",
    "\n",
    "result = []\n",
    "\n",
    "for index in range(len(mystr)):\n",
    "    if index == 0:\n",
    "        result.append(mystr[index])\n",
    "        result.append('1')\n",
    "    else:\n",
    "        last = mystr[index-1]\n",
    "        now = mystr[index]\n",
    "        count = int(result[-1])\n",
    "        if last == now:\n",
    "            count = count + 1\n",
    "            result[-1] = str(count)\n",
    "        else:\n",
    "            result.append(now)\n",
    "            result.append('1')\n",
    "\n",
    "result = \"\".join(result)\n",
    "\n",
    "print(\"당신이 처음 입력한 문자열\" + mystr)\n",
    "print(\"변환된 문자열\" + result)\n"
   ]
  },
  {
   "cell_type": "code",
   "execution_count": 35,
   "id": "24bf112f",
   "metadata": {},
   "outputs": [
    {
     "name": "stdout",
     "output_type": "stream",
     "text": [
      "당신이 입력한 숫자:1234509876\n",
      "0~9까지 모든 숫자들을 한번씩 잘 사용하셨습니다.\n"
     ]
    },
    {
     "data": {
      "text/plain": [
       "True"
      ]
     },
     "execution_count": 35,
     "metadata": {},
     "output_type": "execute_result"
    }
   ],
   "source": [
    "# 15\n",
    "def Duplicate_Numbers():\n",
    "    numbers = input(\"0~9의 숫자를 여러가지 입력해보이소.\")\n",
    "\n",
    "    print(\"당신이 입력한 숫자:\" + numbers)\n",
    "\n",
    "    if len(set(numbers)) == 10:\n",
    "        print(\"0~9까지 모든 숫자들을 한번씩 잘 사용하셨습니다.\")\n",
    "        return True\n",
    "    else:\n",
    "        print(\"삐빅. 적게 사용했거나 중복해서 사용했네요\")\n",
    "        return False\n",
    "\n",
    "Duplicate_Numbers()"
   ]
  },
  {
   "cell_type": "code",
   "execution_count": 28,
   "id": "4a227073",
   "metadata": {},
   "outputs": [
    {
     "name": "stdout",
     "output_type": "stream",
     "text": [
      "입력한 모스부호:....  .  .-..  .-..  ---     .--  ---  .-.  .-..  -..\n",
      "변환된 모스부호:H E L L O 해석실패() 해석실패()W O R L D\n"
     ]
    }
   ],
   "source": [
    "# 16\n",
    "\n",
    "# 예시 모스부호: \".... .  ... .-.. . . .--. ...  . .- .-. .-.. -.--\"\n",
    "\n",
    "모스부호 = input(\"모스 부호를 입력하시오.\")\n",
    "\n",
    "# splite 같은 함수 사용해서 단어끼리(공백 두개) 나눈 뒤 단어끼리는 공백으로 구분, 단어 안의 부호들을 알파벳(공백 한개)로 나눈뒤 해석하여 합치자.\n",
    "단어들 = 모스부호.split(\"  \") # 공백 두 개를 기준으로 단어끼리 묶음\n",
    "\n",
    "for index in range(len(단어들)):\n",
    "    단어들[index] = 단어들[index].split(\" \") # 공백 한 개 기준으로 단어를 글자로 나눔.\n",
    "\n",
    "단어_공백 = []\n",
    "횟수 = len(단어들)\n",
    "for index in range(횟수):\n",
    "    단어_공백.append(단어들[index])\n",
    "    if index == 횟수-1: # 마지막 단어 뒤에는 공백 추가하지 않음.\n",
    "        pass\n",
    "    else:\n",
    "        단어_공백.append(\"공백\") # 공백 표시 추가\n",
    "\n",
    "chars = []\n",
    "for index in range(len(단어_공백)):\n",
    "    if 단어_공백[index] == \"공백\":\n",
    "        chars.append(\" \")\n",
    "    else:\n",
    "        for j in range(len(단어_공백[index])):\n",
    "            타켓모스부호 = 단어_공백[index][j]\n",
    "            if 타켓모스부호 == \".-\":\n",
    "                chars.append(\"A\")\n",
    "            elif 타켓모스부호 == \"-...\":\n",
    "                chars.append(\"B\")\n",
    "            elif 타켓모스부호 == \"-.-.\":\n",
    "                chars.append(\"C\")\n",
    "            elif 타켓모스부호 == \"-..\":\n",
    "                chars.append(\"D\")\n",
    "            elif 타켓모스부호 == \".\":\n",
    "                chars.append(\"E\")\n",
    "            elif 타켓모스부호 == \"..-.\":\n",
    "                chars.append(\"F\")\n",
    "            elif 타켓모스부호 == \"--.\":\n",
    "                chars.append(\"G\")\n",
    "            elif 타켓모스부호 == \"....\":\n",
    "                chars.append(\"H\")\n",
    "            elif 타켓모스부호 == \"..\":\n",
    "                chars.append(\"I\")\n",
    "            elif 타켓모스부호 == \".---\":\n",
    "                chars.append(\"J\")\n",
    "            elif 타켓모스부호 == \"-.-\":\n",
    "                chars.append(\"K\")\n",
    "            elif 타켓모스부호 == \".-..\":\n",
    "                chars.append(\"L\")\n",
    "            elif 타켓모스부호 == \"--\":\n",
    "                chars.append(\"M\")\n",
    "            elif 타켓모스부호 == \"-.\":\n",
    "                chars.append(\"N\")\n",
    "            elif 타켓모스부호 == \"---\":\n",
    "                chars.append(\"O\")\n",
    "            elif 타켓모스부호 == \".--.\":\n",
    "                chars.append(\"P\")\n",
    "            elif 타켓모스부호 == \"--.-\":\n",
    "                chars.append(\"Q\")\n",
    "            elif 타켓모스부호 == \".-.\":\n",
    "                chars.append(\"R\")\n",
    "            elif 타켓모스부호 == \"...\":\n",
    "                chars.append(\"S\")\n",
    "            elif 타켓모스부호 == \"-\":\n",
    "                chars.append(\"T\")\n",
    "            elif 타켓모스부호 == \"..-\":\n",
    "                chars.append(\"U\")\n",
    "            elif 타켓모스부호 == \"...-\":\n",
    "                chars.append(\"V\")\n",
    "            elif 타켓모스부호 == \".--\":\n",
    "                chars.append(\"W\")\n",
    "            elif 타켓모스부호 == \"-..-\":\n",
    "                chars.append(\"X\")\n",
    "            elif 타켓모스부호 == \"-.--\":\n",
    "                chars.append(\"Y\")\n",
    "            elif 타켓모스부호 == \"--..\":\n",
    "                chars.append(\"Z\")\n",
    "            else:\n",
    "                chars.append(f\"해석실패({타켓모스부호})\")\n",
    "\n",
    "\n",
    "result = ''.join(chars)\n",
    "print(\"입력한 모스부호:\" + 모스부호)\n",
    "print(\"변환된 모스부호:\" + result)"
   ]
  },
  {
   "cell_type": "code",
   "execution_count": 4,
   "id": "c8948993",
   "metadata": {},
   "outputs": [
    {
     "name": "stdout",
     "output_type": "stream",
     "text": [
      "None\n",
      "<re.Match object; span=(0, 6), match='a....b'>\n",
      "None\n",
      "None\n"
     ]
    }
   ],
   "source": [
    "# 17\n",
    "import re\n",
    "\n",
    "p = re.compile('a[.]{3,}b')\n",
    "mylist = [\"acccb\", \"a....b\", \"aaab\", \"a.cccb\"]\n",
    "for i in mylist:\n",
    "    m = p.match(i)\n",
    "    print(m)"
   ]
  },
  {
   "cell_type": "code",
   "execution_count": null,
   "id": "588915de",
   "metadata": {},
   "outputs": [
    {
     "data": {
      "text/plain": [
       "'python'"
      ]
     },
     "execution_count": 6,
     "metadata": {},
     "output_type": "execute_result"
    }
   ],
   "source": [
    "# 18\n",
    "# p와 n만 나올 것이다.\n",
    "import re\n",
    "p = re.compile(\"[a-z]+\")\n",
    "m = p.search(\"5 python\")\n",
    "m.start() + m.end()\n",
    "# 정답은 10이었군."
   ]
  },
  {
   "cell_type": "code",
   "execution_count": null,
   "id": "26ec92af",
   "metadata": {},
   "outputs": [
    {
     "name": "stdout",
     "output_type": "stream",
     "text": [
      "\n",
      "park 010-9988-####\n",
      "kim 010-7789-####\n",
      "lee 010-7768-####\n",
      "\n"
     ]
    },
    {
     "name": "stderr",
     "output_type": "stream",
     "text": [
      "<>:11: SyntaxWarning: invalid escape sequence '\\g'\n",
      "<>:11: SyntaxWarning: invalid escape sequence '\\g'\n",
      "C:\\Users\\wkddl\\AppData\\Local\\Temp\\ipykernel_15384\\2455314870.py:11: SyntaxWarning: invalid escape sequence '\\g'\n",
      "  m = p.sub(\"010-\\g<2>-####\", a)\n"
     ]
    }
   ],
   "source": [
    "# 19\n",
    "import re\n",
    "\n",
    "a = \"\"\"\n",
    "park 010-9999-9988\n",
    "kim 010-9909-7789\n",
    "lee 010-8789-7768\n",
    "\"\"\"\n",
    "\n",
    "p = re.compile(r\"010[-](\\d{4})[-](\\d{4})\")\n",
    "m = p.sub(\"010-\\g<2>-####\", a)\n",
    "\n",
    "print(m)"
   ]
  },
  {
   "cell_type": "code",
   "execution_count": 42,
   "id": "8d7388af",
   "metadata": {},
   "outputs": [
    {
     "name": "stdout",
     "output_type": "stream",
     "text": [
      "['park@naver.com', 'kim@daum.net', 'lee@myhome.co.kr']\n"
     ]
    }
   ],
   "source": [
    "# 20\n",
    "sample = \"\"\"\n",
    "park@naver.com\n",
    "kim@daum.net\n",
    "lee@myhome.co.kr\n",
    "\"\"\"\n",
    "\n",
    "p = re.compile(\".*[@].*[.].*$\", re.MULTILINE)\n",
    "m = p.findall(sample)\n",
    "print(m)"
   ]
  },
  {
   "cell_type": "code",
   "execution_count": null,
   "id": "766cf70c",
   "metadata": {},
   "outputs": [
    {
     "name": "stdout",
     "output_type": "stream",
     "text": [
      "['park@naver.com', 'kim@daum.net']\n"
     ]
    }
   ],
   "source": [
    "# .com, .net 이 아닌 메일 주소를 제외하려면?\n",
    "sample = \"\"\"\n",
    "park@naver.com\n",
    "kim@daum.net\n",
    "lee@myhome.co.kr\n",
    "\"\"\"\n",
    "\n",
    "p = re.compile(\".*[@].*[.com|.net]$\", re.MULTILINE)\n",
    "m = p.findall(sample)\n",
    "print(m)\n",
    "\n",
    "# 긍정형 전방 탐색 기법은 사용하지 못함 ㅠㅠ"
   ]
  },
  {
   "cell_type": "code",
   "execution_count": null,
   "id": "5a6ca4dc",
   "metadata": {},
   "outputs": [],
   "source": []
  }
 ],
 "metadata": {
  "kernelspec": {
   "display_name": "Python 3",
   "language": "python",
   "name": "python3"
  },
  "language_info": {
   "codemirror_mode": {
    "name": "ipython",
    "version": 3
   },
   "file_extension": ".py",
   "mimetype": "text/x-python",
   "name": "python",
   "nbconvert_exporter": "python",
   "pygments_lexer": "ipython3",
   "version": "3.13.5"
  }
 },
 "nbformat": 4,
 "nbformat_minor": 5
}
